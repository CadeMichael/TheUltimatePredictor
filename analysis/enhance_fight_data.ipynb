{
 "cells": [
  {
   "cell_type": "code",
   "execution_count": 1,
   "id": "8085b9c5-3dde-453e-823e-870ff739f05c",
   "metadata": {},
   "outputs": [],
   "source": [
    "# notebook globals\n",
    "import pandas as pd\n",
    "from dateutil.relativedelta import relativedelta\n",
    "\n",
    "# load data\n",
    "fighters = pd.read_csv('../tuf/fighters.csv', parse_dates=['dob']).apply(lambda x: x.str.strip() if x.dtype == 'object' else x)\n",
    "fights = pd.read_csv('../tuf/fights.csv', parse_dates=['event_date'])\n",
    "fights[['f1_name', 'f2_name']] = fights[['f1_name', 'f2_name']].apply(lambda x: x.str.strip())\n",
    "\n",
    "# calculate fighter age at the time of the fight\n",
    "def calculate_age(dob, event_date):\n",
    "    if pd.isna(dob) or pd.isna(event_date): return None\n",
    "    return relativedelta(event_date, dob).years"
   ]
  },
  {
   "cell_type": "code",
   "execution_count": 2,
   "id": "ed1fc3b8-4b65-42be-8928-c91a98acefd6",
   "metadata": {},
   "outputs": [],
   "source": [
    "# add fighter metrics\n",
    "for fighter_num in ['f1', 'f2']:\n",
    "    fights = fights.merge(\n",
    "        fighters[['name', 'height', 'reach', 'stance', 'dob']],\n",
    "        left_on=f'{fighter_num}_name',\n",
    "        right_on='name',\n",
    "        how='left',\n",
    "        suffixes=('', f'_{fighter_num}')\n",
    "    )\n",
    "    # rename merged column based on fighter\n",
    "    fights = fights.rename(columns={\n",
    "        'height': f'{fighter_num}_height',\n",
    "        'reach': f'{fighter_num}_reach',\n",
    "        'stance': f'{fighter_num}_stance',\n",
    "        'dob': f'{fighter_num}_dob'\n",
    "    })\n",
    "    # calculate age at time of fight\n",
    "    fights[f'{fighter_num}_age'] = fights.apply(\n",
    "        lambda x: calculate_age(x[f'{fighter_num}_dob'], x['event_date']),\n",
    "        axis=1\n",
    "    )\n",
    "    fights.drop(columns=['name'], inplace=True) # already have their names\n",
    "\n",
    "# fighter differentials\n",
    "fights['reach_diff'] = (fights['f1_reach'] - fights['f2_reach']).abs()\n",
    "fights['height_diff'] = (fights['f1_height'] - fights['f2_height']).abs()\n",
    "fights['age_diff'] = (fights['f1_age'] - fights['f2_age']).abs()"
   ]
  },
  {
   "cell_type": "code",
   "execution_count": 3,
   "id": "7a5cc3b5-24f5-4573-bc61-d7ac71d02b61",
   "metadata": {},
   "outputs": [],
   "source": [
    "# new column labels\n",
    "column_labels = [\n",
    "    # original column labels\n",
    "    'event_date', 'event_name', 'weight_class', \n",
    "    'f1_name', 'f2_name', 'winner', 'loser',\n",
    "    'method', 'method_details', 'end_round',\n",
    "    'time', 'total_time', 'outcome',\n",
    "    \n",
    "    # fighter metrics\n",
    "    'f1_height', 'f1_reach', 'f1_stance', 'f1_age',\n",
    "    'f2_height', 'f2_reach', 'f2_stance', 'f2_age',\n",
    "    \n",
    "    # fighter differentials\n",
    "    'reach_diff', 'height_diff', 'age_diff'\n",
    "]\n",
    "\n",
    "# get the data from the columns\n",
    "fights = fights[column_labels]\n",
    "\n",
    "# output new csv file\n",
    "fights.to_csv('enhanced_fights.csv', index=False)"
   ]
  }
 ],
 "metadata": {
  "kernelspec": {
   "display_name": "Python 3 (ipykernel)",
   "language": "python",
   "name": "python3"
  },
  "language_info": {
   "codemirror_mode": {
    "name": "ipython",
    "version": 3
   },
   "file_extension": ".py",
   "mimetype": "text/x-python",
   "name": "python",
   "nbconvert_exporter": "python",
   "pygments_lexer": "ipython3",
   "version": "3.10.8"
  }
 },
 "nbformat": 4,
 "nbformat_minor": 5
}
